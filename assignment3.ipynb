{
 "cells": [
  {
   "cell_type": "markdown",
   "id": "8a545f17",
   "metadata": {},
   "source": [
    "### Q1. Why are functions advantageous to have in your programs? "
   ]
  },
  {
   "cell_type": "markdown",
   "id": "a007a877",
   "metadata": {},
   "source": [
    "Ans1.\n",
    "improve code Reusability (do not repeat) and break code into sub-code  so easy to maintain "
   ]
  },
  {
   "cell_type": "markdown",
   "id": "af3e79e8",
   "metadata": {},
   "source": [
    "### Q2. When does the code in a function run: when it's specified or when it's called?"
   ]
  },
  {
   "cell_type": "markdown",
   "id": "0b054560",
   "metadata": {},
   "source": [
    "Ans2.\n",
    "when the function is called"
   ]
  },
  {
   "cell_type": "markdown",
   "id": "002748ae",
   "metadata": {},
   "source": [
    "### Q3. What statement creates a function?"
   ]
  },
  {
   "cell_type": "code",
   "execution_count": null,
   "id": "ff41ad99",
   "metadata": {},
   "outputs": [],
   "source": [
    "def function_name(arguments):\n",
    "    # function body \n",
    "\n",
    "    return"
   ]
  },
  {
   "cell_type": "markdown",
   "id": "0fb6c35f",
   "metadata": {},
   "source": [
    "### Q4. What is the difference between a function and a function call?"
   ]
  },
  {
   "cell_type": "markdown",
   "id": "f5e7a048",
   "metadata": {},
   "source": [
    "Ans4.\n",
    "make a saprate peace of code for Reusability or make a code easy known as a Function.\n",
    "\n",
    "but when we use it into our code by calling its name known as Function call"
   ]
  },
  {
   "cell_type": "markdown",
   "id": "5cf7120b",
   "metadata": {},
   "source": [
    "### Q5. How many global scopes are there in a Python program? How many local scopes?"
   ]
  },
  {
   "cell_type": "markdown",
   "id": "a68711f1",
   "metadata": {},
   "source": [
    "There is one global scope. \n",
    "\n",
    "But a local scope is created whenever a function is called."
   ]
  },
  {
   "cell_type": "markdown",
   "id": "dd9c7696",
   "metadata": {},
   "source": [
    "### Q6. What happens to variables in a local scope when the function call returns?"
   ]
  },
  {
   "cell_type": "markdown",
   "id": "c8ecd608",
   "metadata": {},
   "source": [
    "Ans: When a function returns, the local scope is destroyed, and all the variables in it are forgotten."
   ]
  },
  {
   "cell_type": "markdown",
   "id": "f7d88ffd",
   "metadata": {},
   "source": [
    "### Q7. What is the concept of a return value? Is it possible to have a return value in an expression"
   ]
  },
  {
   "cell_type": "markdown",
   "id": "201d2814",
   "metadata": {},
   "source": [
    "Ans: A return value is the value that a function call evaluates to like any value, a return value can be used as part of an expression."
   ]
  },
  {
   "cell_type": "markdown",
   "id": "45c9f852",
   "metadata": {},
   "source": [
    "### Q8. If a function does not have a return statement, what is the return value of a call to that function?"
   ]
  },
  {
   "cell_type": "markdown",
   "id": "84a4e9d8",
   "metadata": {},
   "source": [
    "Ans:\n",
    "    None"
   ]
  },
  {
   "cell_type": "markdown",
   "id": "adbc3b05",
   "metadata": {},
   "source": [
    "### Q9. How do you make a function variable refer to the global variable?"
   ]
  },
  {
   "cell_type": "markdown",
   "id": "b87f4e64",
   "metadata": {},
   "source": [
    "Ans:\n",
    "    \n",
    "By Using \"global\" keyword"
   ]
  },
  {
   "cell_type": "markdown",
   "id": "04036420",
   "metadata": {},
   "source": [
    "### Q10. What is the data type of None?"
   ]
  },
  {
   "cell_type": "code",
   "execution_count": 8,
   "id": "7b6fe151",
   "metadata": {},
   "outputs": [
    {
     "data": {
      "text/plain": [
       "NoneType"
      ]
     },
     "execution_count": 8,
     "metadata": {},
     "output_type": "execute_result"
    }
   ],
   "source": [
    "#Ans:\n",
    "    \n",
    "type(None)  #NoneType"
   ]
  },
  {
   "cell_type": "markdown",
   "id": "c6d4fd09",
   "metadata": {},
   "source": [
    "### Q11. What does the sentence import areallyourpetsnamederic do?"
   ]
  },
  {
   "cell_type": "markdown",
   "id": "e9a184e1",
   "metadata": {},
   "source": [
    "Ans: That import statement imports a module named areallyourpetsnamederic."
   ]
  },
  {
   "cell_type": "markdown",
   "id": "a9b165a4",
   "metadata": {},
   "source": [
    "### Q12. If you had a bacon() feature in a spam module, what would you call it after importing spam?"
   ]
  },
  {
   "cell_type": "markdown",
   "id": "d222dfd4",
   "metadata": {},
   "source": [
    "Ans: This function can be called with spam.bacon()."
   ]
  },
  {
   "cell_type": "markdown",
   "id": "6a7b6337",
   "metadata": {},
   "source": [
    "### Q13. What can you do to save a programme from crashing if it encounters an error?"
   ]
  },
  {
   "cell_type": "markdown",
   "id": "c32d1ea2",
   "metadata": {},
   "source": [
    "Ans: Place the line of code that might cause an error in a try clause and use except block to handle the error."
   ]
  },
  {
   "cell_type": "markdown",
   "id": "dfab34e4",
   "metadata": {},
   "source": [
    "### Q14. What is the purpose of the try clause? What is the purpose of the except clause?"
   ]
  },
  {
   "cell_type": "markdown",
   "id": "e03f7cae",
   "metadata": {},
   "source": [
    "ANS:The code that could potentially cause an error goes in the try clause. The code that executes if an error happens goes in the except clause."
   ]
  }
 ],
 "metadata": {
  "kernelspec": {
   "display_name": "Python 3 (ipykernel)",
   "language": "python",
   "name": "python3"
  },
  "language_info": {
   "codemirror_mode": {
    "name": "ipython",
    "version": 3
   },
   "file_extension": ".py",
   "mimetype": "text/x-python",
   "name": "python",
   "nbconvert_exporter": "python",
   "pygments_lexer": "ipython3",
   "version": "3.9.12"
  }
 },
 "nbformat": 4,
 "nbformat_minor": 5
}
