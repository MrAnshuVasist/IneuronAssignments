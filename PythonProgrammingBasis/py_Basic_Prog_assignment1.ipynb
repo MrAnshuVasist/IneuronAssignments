{
 "cells": [
  {
   "cell_type": "markdown",
   "id": "c6273cf6",
   "metadata": {},
   "source": [
    "### Q1. Write a Python program to print \"Hello Python\""
   ]
  },
  {
   "cell_type": "code",
   "execution_count": 1,
   "id": "788b4aa6",
   "metadata": {},
   "outputs": [
    {
     "name": "stdout",
     "output_type": "stream",
     "text": [
      "Hello Python\n"
     ]
    }
   ],
   "source": [
    "#Answer 1\n",
    "print(\"Hello Python\")"
   ]
  },
  {
   "cell_type": "markdown",
   "id": "c3bda477",
   "metadata": {},
   "source": [
    "### Q2. Write a Python program to do arithmetical operations addition and division.?"
   ]
  },
  {
   "cell_type": "code",
   "execution_count": 2,
   "id": "a637b26e",
   "metadata": {},
   "outputs": [],
   "source": [
    "#Answer 2\n",
    "a=int(input(\"Enter first value\"))\n",
    "\n",
    "b=int(input(\"Enter \tSecond value\"))\n",
    "\n",
    "def add(a,b):\n",
    "    return a+b\n",
    "\n",
    "def divide(a,b):\n",
    "    return a/b\n",
    "\n",
    "\n",
    "\n",
    "print(f\"addition is {add(a,b)}\")\n",
    "print(f\"division is {divide(a,b)}\")"
   ]
  },
  {
   "cell_type": "markdown",
   "id": "9b46f61a",
   "metadata": {},
   "source": [
    "### Q3. Write a Python program to find the area of a triangle?"
   ]
  },
  {
   "cell_type": "code",
   "execution_count": null,
   "id": "b9631b98",
   "metadata": {},
   "outputs": [
    {
     "name": "stdout",
     "output_type": "stream",
     "text": [
      "Enter the base of Triangle =5\n",
      "Enter the height of Triangle = 10\n",
      "The Area of Triangle of Base 5 , Height 10 is  25.0\n"
     ]
    }
   ],
   "source": [
    "#Answer 3\n",
    "base = int(input(\"Enter the base of Triangle =\"))\n",
    "height = int(input(\"Enter the height of Triangle = \"))\n",
    "area = (height*base)/2\n",
    "print(f\"The Area of Triangle of Base {base} , Height {height} is  {area}\")"
   ]
  },
  {
   "cell_type": "markdown",
   "id": "aad0be0b",
   "metadata": {},
   "source": [
    "### Q4. Write a Python program to swap two variables?"
   ]
  },
  {
   "cell_type": "code",
   "execution_count": null,
   "id": "88dae584",
   "metadata": {},
   "outputs": [
    {
     "name": "stdout",
     "output_type": "stream",
     "text": [
      "Enter First Variable5\n",
      "Enter Second Variable10\n",
      "\tAfter Swaping\n",
      " First Variable is 10\n",
      " Second Variable is 5\n"
     ]
    }
   ],
   "source": [
    "a=int(input(\"Enter First Variable\"))\n",
    "b=int(input(\"Enter Second Variable\"))\n",
    "\n",
    "print(\"\\tAfter Swaping\")\n",
    "\n",
    "temp=b\n",
    "b=a\n",
    "a=temp\n",
    "\n",
    "print(f\" First Variable is {a}\")\n",
    "print(f\" Second Variable is {b}\")\n"
   ]
  },
  {
   "cell_type": "markdown",
   "id": "54563eb0",
   "metadata": {},
   "source": [
    "### Q5. Write a Python program to generate a random number?"
   ]
  },
  {
   "cell_type": "code",
   "execution_count": null,
   "id": "ec85a9dd",
   "metadata": {},
   "outputs": [
    {
     "name": "stdout",
     "output_type": "stream",
     "text": [
      "520\n"
     ]
    }
   ],
   "source": [
    "import random\n",
    "print(random.randint(0,1000))"
   ]
  }
 ],
 "metadata": {
  "kernelspec": {
   "display_name": "base",
   "language": "python",
   "name": "python3"
  },
  "language_info": {
   "codemirror_mode": {
    "name": "ipython",
    "version": 3
   },
   "file_extension": ".py",
   "mimetype": "text/x-python",
   "name": "python",
   "nbconvert_exporter": "python",
   "pygments_lexer": "ipython3",
   "version": "3.9.12"
  },
  "vscode": {
   "interpreter": {
    "hash": "dc07d24e2f18896857f0b2a651fe84ba40ce7b297e58d8804a308c8039f752a6"
   }
  }
 },
 "nbformat": 4,
 "nbformat_minor": 5
}
