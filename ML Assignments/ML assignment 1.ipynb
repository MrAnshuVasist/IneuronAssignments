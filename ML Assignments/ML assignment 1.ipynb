{
 "cells": [
  {
   "cell_type": "markdown",
   "id": "fef5c511",
   "metadata": {},
   "source": [
    "# Machine learning Assignment 1"
   ]
  },
  {
   "cell_type": "markdown",
   "id": "7d11a608",
   "metadata": {},
   "source": [
    "1. **What does one mean by the term \"machine learning\"?**\n",
    "   \n",
    "   Ans: Machine learning is a technique in which we can predict outputs on the behalf of datasets also used for classified the data it has two main types 1. Supervised Machine learning and 2. Unsupervised Machine learning (first one is used for labbelde data set and anothe one for unlabeled dataset)"
   ]
  },
  {
   "cell_type": "markdown",
   "id": "d5c268a4",
   "metadata": {},
   "source": [
    "2. **Can you think of 4 distinct types of issues where it shines?**\n",
    "\n",
    "    spam detection , Disease diagnosis, automation, and predictions."
   ]
  },
  {
   "cell_type": "markdown",
   "id": "29b4c0ed",
   "metadata": {},
   "source": [
    "3. **What is a labeled training set, and how does it work?**\n",
    "\n",
    "   Ans: A labeled training set is a dataset containing input data along with corresponding known output values. It works by training machine learning models on this labeled data. The model learns to make predictions by recognizing patterns in the input data and adjusting its internal parameters to minimize the error between its predictions and the known output values.\n",
    "\n"
   ]
  },
  {
   "cell_type": "markdown",
   "id": "1cf50dac",
   "metadata": {},
   "source": [
    "4. **What are the two most important tasks that are supervised?**\n",
    "\n",
    "   Ans: The two primary supervised learning tasks are Regression and Classification.\n",
    "\n"
   ]
  },
  {
   "cell_type": "markdown",
   "id": "fba843b2",
   "metadata": {},
   "source": [
    "5. **Can you think of four examples of unsupervised tasks?**\n",
    "\n",
    "   Ans: clustering, visualization, dimensionality reduction , and association rule learning.\n"
   ]
  },
  {
   "cell_type": "markdown",
   "id": "b5e6f1fc",
   "metadata": {},
   "source": [
    "6. **State the machine learning model that would be best to make a robot walk through various unfamiliar terrains?**\n",
    "\n",
    "   Ans: Reinforcement Learning would be the most suitable machine learning approach. in this method their are agent based learning take place where the model also got trained by its mistake \n"
   ]
  },
  {
   "cell_type": "markdown",
   "id": "7e6b5058",
   "metadata": {},
   "source": [
    "7. **Which algorithm will you use to divide your customers into different groups?**\n",
    "\n",
    "   Ans: The choice of algorithm for customer segmentation depends on the nature of the data. If you have labeled groups, you can use a Supervised algo for classification. Otherwise, for unsupervised grouping, clustering algorithms like K-Means ,H mean etc .\n",
    "\n"
   ]
  },
  {
   "cell_type": "markdown",
   "id": "dd496b18",
   "metadata": {},
   "source": [
    "8. **Will you consider the problem of spam detection to be a supervised or unsupervised learning problem?**\n",
    "\n",
    "   Ans: Spam detection is a Supervised Machine Learning problem because it involves classification b/w predefine two groups either \"spam\" or \"not spam\" based on labeled training data."
   ]
  },
  {
   "cell_type": "markdown",
   "id": "f524af1c",
   "metadata": {},
   "source": [
    "9. **What is the concept of an online learning system?**\n",
    "\n",
    "   Ans: An online learning system continuously updates its model. a method of machine learning in which data becomes available in a sequential order and is used to update the best predictor for future data at each step"
   ]
  },
  {
   "cell_type": "markdown",
   "id": "fdb27f95",
   "metadata": {},
   "source": [
    "10. **What is out-of-core learning, and how does it differ from core learning?**\n",
    "\n",
    "    Ans: Out-of-core learning is a method for handling datasets that are too large to fit into computer memory. It differs from in-core learning (traditional machine learning) by processing data in smaller, manageable chunks or batches, making it possible to work with massive datasets.\n",
    "\n"
   ]
  },
  {
   "cell_type": "markdown",
   "id": "a61068a4",
   "metadata": {},
   "source": [
    "11. **What kind of learning algorithm makes predictions using a similarity measure?**\n",
    "\n",
    "Instance-Based Algorithms. These algorithms compare new data instances to previously seen instances and make predictions based on their similarity.\n",
    "\n"
   ]
  },
  {
   "cell_type": "markdown",
   "id": "22bbad4a",
   "metadata": {},
   "source": [
    "12. **What's the difference between a model parameter and a hyperparameter in a learning algorithm?**\n",
    "\n",
    "    Ans: a hyperparameter is a setting or configuration chosen by the model developer before training, such as the learning rate or the depth of a decision tree.\n",
    "\n",
    " model parameter is a configuration learned by the model during training, such as the weights in a neural network. "
   ]
  },
  {
   "cell_type": "markdown",
   "id": "be6e521e",
   "metadata": {},
   "source": [
    "13. **What are the criteria that model-based learning algorithms look for? What is the most popular method they use to achieve success? What method do they use to make predictions?**\n",
    "\n",
    "    Ans: Model-based learning algorithms search for the optimal model parameters that minimize a cost function, typically using methods like Gradient Descent. Once trained, the model makes predictions by applying these learned parameters to new input data.\n",
    "\n"
   ]
  },
  {
   "cell_type": "markdown",
   "id": "a3e90a5e",
   "metadata": {},
   "source": [
    "14. **Can you name four of the most important Machine Learning challenges?**\n",
    "\n",
    "    Ans: Overfitting, \n",
    "         Underfitting, \n",
    "         Data Imbalanced, \n",
    "         outlaiers.\n",
    "\n"
   ]
  },
  {
   "cell_type": "markdown",
   "id": "6e3b5ab3",
   "metadata": {},
   "source": [
    "15. **What happens if the model performs well on the training data but fails to generalize the results to new situations? Can you think of three different options?**\n",
    "\n",
    "    Ans: it is likely overfitting. To address this, options include collecting more diverse data, simplifying the model, and applying regularization techniques.\n",
    "\n"
   ]
  },
  {
   "cell_type": "markdown",
   "id": "19b26666",
   "metadata": {},
   "source": [
    "16. **What exactly is a test set, and why would you need one?**\n",
    "\n",
    "    Ans: A test set is a separate dataset used to evaluate the model's performance on unseen data. It is essential to assess how well the model generalizes to new situations and to avoid overfitting to the training data.\n",
    "\n"
   ]
  },
  {
   "cell_type": "markdown",
   "id": "15e53fb7",
   "metadata": {},
   "source": [
    "17. **What is a validation set's purpose?**\n",
    "\n",
    "    Ans: A validation set is used to fine-tune model hyperparameters and compare different models during the training process. It helps in selecting the best-performing model configuration.\n",
    "\n"
   ]
  },
  {
   "cell_type": "markdown",
   "id": "f8697a32",
   "metadata": {},
   "source": [
    "18. **What precisely is the train-dev kit, when will you need it, how do you put it to use?**\n",
    "\n",
    "    Ans: The train-dev kit is not a standard term in machine learning. It seems to be a typo or misunderstanding. However, cross-validation is a valuable technique used during model development to evaluate a model's performance without the need for a separate validation set.\n",
    "\n"
   ]
  },
  {
   "cell_type": "markdown",
   "id": "88c8fd85",
   "metadata": {},
   "source": [
    "19. **What could go wrong if you use the test set to tune hyperparameters?**\n",
    "\n",
    "    Ans: If you use the test set to tune hyperparameters, the model may become tailored to perform well on that specific test set, but it may not generalize effectively to new, unseen data. This can lead to overfitting to the test set and a false sense of the model's performance.\n",
    "        "
   ]
  }
 ],
 "metadata": {
  "kernelspec": {
   "display_name": "Python 3 (ipykernel)",
   "language": "python",
   "name": "python3"
  },
  "language_info": {
   "codemirror_mode": {
    "name": "ipython",
    "version": 3
   },
   "file_extension": ".py",
   "mimetype": "text/x-python",
   "name": "python",
   "nbconvert_exporter": "python",
   "pygments_lexer": "ipython3",
   "version": "3.9.12"
  }
 },
 "nbformat": 4,
 "nbformat_minor": 5
}
