{
 "cells": [
  {
   "cell_type": "markdown",
   "id": "667e7549",
   "metadata": {},
   "source": [
    "# Machine learning Assignment 1"
   ]
  },
  {
   "cell_type": "markdown",
   "id": "13d809e0",
   "metadata": {},
   "source": [
    "1. **What does one mean by the term \"machine learning\"?**\n",
    "   \n",
    "   Ans: Machine learning is a technique in which we can predict outputs on the behalf of datasets also used for classified the data it has two main types 1. Supervised Machine learning and 2. Unsupervised Machine learning (first one is used for labbelde data set and anothe one for unlabeled dataset)"
   ]
  },
  {
   "cell_type": "markdown",
   "id": "ddf0877e",
   "metadata": {},
   "source": [
    "2. **Can you think of 4 distinct types of issues where it shines?**\n",
    "\n",
    "    spam detection , Disease diagnosis, automation, and predictions."
   ]
  },
  {
   "cell_type": "markdown",
   "id": "7b485a5b",
   "metadata": {},
   "source": [
    "3. **What is a labeled training set, and how does it work?**\n",
    "\n",
    "   Ans: A labeled training set is a dataset containing input data along with corresponding known output values. It works by training machine learning models on this labeled data. The model learns to make predictions by recognizing patterns in the input data and adjusting its internal parameters to minimize the error between its predictions and the known output values.\n",
    "\n"
   ]
  },
  {
   "cell_type": "markdown",
   "id": "d9626464",
   "metadata": {},
   "source": [
    "4. **What are the two most important tasks that are supervised?**\n",
    "\n",
    "   Ans: The two primary supervised learning tasks are Regression and Classification.\n",
    "\n"
   ]
  },
  {
   "cell_type": "markdown",
   "id": "8becf7cf",
   "metadata": {},
   "source": [
    "5. **Can you think of four examples of unsupervised tasks?**\n",
    "\n",
    "   Ans: clustering, visualization, dimensionality reduction , and association rule learning.\n"
   ]
  },
  {
   "cell_type": "markdown",
   "id": "48dcea18",
   "metadata": {},
   "source": [
    "6. **State the machine learning model that would be best to make a robot walk through various unfamiliar terrains?**\n",
    "\n",
    "   Ans: Reinforcement Learning would be the most suitable machine learning approach. in this method their are agent based learning take place where the model also got trained by its mistake \n"
   ]
  },
  {
   "cell_type": "markdown",
   "id": "6595ea82",
   "metadata": {},
   "source": [
    "7. **Which algorithm will you use to divide your customers into different groups?**\n",
    "\n",
    "   Ans: The choice of algorithm for customer segmentation depends on the nature of the data. If you have labeled groups, you can use a Supervised algo for classification. Otherwise, for unsupervised grouping, clustering algorithms like K-Means ,H mean etc .\n",
    "\n"
   ]
  },
  {
   "cell_type": "markdown",
   "id": "b505b556",
   "metadata": {},
   "source": [
    "8. **Will you consider the problem of spam detection to be a supervised or unsupervised learning problem?**\n",
    "\n",
    "   Ans: Spam detection is a Supervised Machine Learning problem because it involves classification b/w predefine two groups either \"spam\" or \"not spam\" based on labeled training data."
   ]
  },
  {
   "cell_type": "markdown",
   "id": "c81ac9e0",
   "metadata": {},
   "source": [
    "9. **What is the concept of an online learning system?**\n",
    "\n",
    "   Ans: An online learning system continuously updates its model. a method of machine learning in which data becomes available in a sequential order and is used to update the best predictor for future data at each step"
   ]
  },
  {
   "cell_type": "markdown",
   "id": "c4a407bc",
   "metadata": {},
   "source": [
    "10. **What is out-of-core learning, and how does it differ from core learning?**\n",
    "\n",
    "    Ans: It is a way to train your model on data that cannot fit your core memory.” Out-of-core learning refers to the machine learning algorithms working with data that cannot fit into a single machine's memory but can easily fit into some data storage, such as a local hard disk or web repository"
   ]
  },
  {
   "cell_type": "code",
   "execution_count": null,
   "id": "4a1ac9c1",
   "metadata": {},
   "outputs": [],
   "source": [
    "11. **What kind of learning algorithm makes predictions using a similarity measure?**\n",
    "\n",
    "    Ans: Learning algorithms that make predictions using a similarity measure are often referred to as Instance-Based Algorithms. These algorithms compare new data instances to previously seen instances and make predictions based on their similarity.\n",
    "\n"
   ]
  },
  {
   "cell_type": "code",
   "execution_count": null,
   "id": "6ffd9e88",
   "metadata": {},
   "outputs": [],
   "source": [
    "12. **What's the difference between a model parameter and a hyperparameter in a learning algorithm?**\n",
    "\n",
    "    Ans: A model parameter is a configuration learned by the model during training, such as the weights in a neural network. In contrast, a hyperparameter is a setting or configuration chosen by the model developer before training, such as the learning rate or the depth of a decision tree.\n",
    "\n"
   ]
  },
  {
   "cell_type": "code",
   "execution_count": null,
   "id": "27fc95ad",
   "metadata": {},
   "outputs": [],
   "source": [
    "13. **What are the criteria that model-based learning algorithms look for? What is the most popular method they use to achieve success? What method do they use to make predictions?**\n",
    "\n",
    "    Ans: Model-based learning algorithms search for the optimal model parameters that minimize a cost function, typically using methods like Gradient Descent. Once trained, the model makes predictions by applying these learned parameters to new input data.\n",
    "\n"
   ]
  },
  {
   "cell_type": "code",
   "execution_count": null,
   "id": "0dfc76c3",
   "metadata": {},
   "outputs": [],
   "source": [
    "14. **Can you name four of the most important Machine Learning challenges?**\n",
    "\n",
    "    Ans: Four significant challenges in Machine Learning include Overfitting, Underfitting, Data Scarcity, and Data Bias.\n",
    "\n"
   ]
  },
  {
   "cell_type": "code",
   "execution_count": null,
   "id": "11ec0a0a",
   "metadata": {},
   "outputs": [],
   "source": [
    "15. **What happens if the model performs well on the training data but fails to generalize the results to new situations? Can you think of three different options?**\n",
    "\n",
    "    Ans: If a model performs well on the training data but poorly on new data, it is likely overfitting. To address this, options include collecting more diverse data, simplifying the model, and applying regularization techniques.\n",
    "\n"
   ]
  },
  {
   "cell_type": "code",
   "execution_count": null,
   "id": "5dc54903",
   "metadata": {},
   "outputs": [],
   "source": [
    "16. **What exactly is a test set, and why would you need one?**\n",
    "\n",
    "    Ans: A test set is a separate dataset used to evaluate the model's performance on unseen data. It is essential to assess how well the model generalizes to new situations and to avoid overfitting to the training data.\n",
    "\n"
   ]
  },
  {
   "cell_type": "code",
   "execution_count": null,
   "id": "f4ca80bf",
   "metadata": {},
   "outputs": [],
   "source": [
    "17. **What is a validation set's purpose?**\n",
    "\n",
    "    Ans: A validation set is used to fine-tune model hyperparameters and compare different models during the training process. It helps in selecting the best-performing model configuration.\n",
    "\n"
   ]
  },
  {
   "cell_type": "code",
   "execution_count": null,
   "id": "5c2cc9d1",
   "metadata": {},
   "outputs": [],
   "source": [
    "18. **What precisely is the train-dev kit, when will you need it, how do you put it to use?**\n",
    "\n",
    "    Ans: The train-dev kit is not a standard term in machine learning. It seems to be a typo or misunderstanding. However, cross-validation is a valuable technique used during model development to evaluate a model's performance without the need for a separate validation set.\n",
    "\n"
   ]
  },
  {
   "cell_type": "code",
   "execution_count": null,
   "id": "5090718c",
   "metadata": {},
   "outputs": [],
   "source": [
    "19. **What could go wrong if you use the test set to tune hyperparameters?**\n",
    "\n",
    "    Ans: If you use the test set to tune hyperparameters, the model may become tailored to perform well on that specific test set, but it may not generalize effectively to new, unseen data. This can lead to overfitting to the test set and a false sense of the model's performance.\n",
    "        "
   ]
  }
 ],
 "metadata": {
  "kernelspec": {
   "display_name": "Python 3 (ipykernel)",
   "language": "python",
   "name": "python3"
  },
  "language_info": {
   "codemirror_mode": {
    "name": "ipython",
    "version": 3
   },
   "file_extension": ".py",
   "mimetype": "text/x-python",
   "name": "python",
   "nbconvert_exporter": "python",
   "pygments_lexer": "ipython3",
   "version": "3.9.12"
  }
 },
 "nbformat": 4,
 "nbformat_minor": 5
}
