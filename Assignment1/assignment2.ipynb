{
 "cells": [
  {
   "cell_type": "markdown",
   "id": "8aaaf88d",
   "metadata": {},
   "source": [
    "# Assignment 2 Solutions"
   ]
  },
  {
   "cell_type": "markdown",
   "id": "44c6d6ca",
   "metadata": {},
   "source": [
    "### Q1.What are the two values of the boolean data types? how do you write them ?\n"
   ]
  },
  {
   "cell_type": "markdown",
   "id": "c2777e8c",
   "metadata": {},
   "source": [
    "### Ans1. \n",
    " True and False are two values of the boolen data types."
   ]
  },
  {
   "cell_type": "code",
   "execution_count": 3,
   "id": "c2f917df",
   "metadata": {},
   "outputs": [
    {
     "name": "stdout",
     "output_type": "stream",
     "text": [
      "<class 'bool'>\n",
      "<class 'bool'>\n"
     ]
    }
   ],
   "source": [
    "print(type(True))  \n",
    "print(type(False))"
   ]
  },
  {
   "cell_type": "markdown",
   "id": "e133fc52",
   "metadata": {},
   "source": [
    "### Q2. What are the three different types of Boolean operators?"
   ]
  },
  {
   "cell_type": "markdown",
   "id": "5fa88361",
   "metadata": {},
   "source": [
    "\n",
    "### Ans2. \n",
    "1. or   \n",
    "2. and \n",
    "3. not "
   ]
  },
  {
   "cell_type": "code",
   "execution_count": 7,
   "id": "4b0477ad",
   "metadata": {},
   "outputs": [
    {
     "name": "stdout",
     "output_type": "stream",
     "text": [
      "True\n",
      "False\n",
      "True\n"
     ]
    }
   ],
   "source": [
    "a=0\n",
    "b=200\n",
    "print(a>50 or b>100) # Example of boolean or\n",
    "print(a>200 and b>100) # Example of boolean and\n",
    "print(not(a>10)) # Example of boolean not"
   ]
  },
  {
   "cell_type": "markdown",
   "id": "3ac9f129",
   "metadata": {},
   "source": [
    "### Q3. Make a list of each Boolean operator's truth tables (i.e. every possible combination of Boolean values for the operator and what it evaluate) ?"
   ]
  },
  {
   "cell_type": "markdown",
   "id": "8880307c",
   "metadata": {},
   "source": [
    "### Ans3.\n",
    "\n",
    "## And Truth Table"
   ]
  },
  {
   "cell_type": "code",
   "execution_count": 11,
   "id": "efd9695f",
   "metadata": {},
   "outputs": [
    {
     "name": "stdout",
     "output_type": "stream",
     "text": [
      "True\n",
      "False\n",
      "False\n",
      "False\n"
     ]
    }
   ],
   "source": [
    "print(True and True)      # -> True\n",
    "print(True and False)     # -> False\n",
    "print(False and True)     # -> False\n",
    "print(False and False)    # -> False"
   ]
  },
  {
   "cell_type": "markdown",
   "id": "8c5fd806",
   "metadata": {},
   "source": [
    "## Or Truth Table"
   ]
  },
  {
   "cell_type": "code",
   "execution_count": 12,
   "id": "9168b4d4",
   "metadata": {},
   "outputs": [
    {
     "name": "stdout",
     "output_type": "stream",
     "text": [
      "True\n",
      "True\n",
      "True\n",
      "False\n"
     ]
    }
   ],
   "source": [
    "print(True or True)      # -> True\n",
    "print(True or False)     # -> True\n",
    "print(False or True)     # -> True\n",
    "print(False or False)    # -> False"
   ]
  },
  {
   "cell_type": "raw",
   "id": "6df605a6",
   "metadata": {},
   "source": [
    "## Not Truth Table"
   ]
  },
  {
   "cell_type": "code",
   "execution_count": 14,
   "id": "62885766",
   "metadata": {},
   "outputs": [
    {
     "name": "stdout",
     "output_type": "stream",
     "text": [
      "False\n",
      "True\n"
     ]
    }
   ],
   "source": [
    "print(not True)        #-> False\n",
    "print(not False)       #-> True"
   ]
  },
  {
   "cell_type": "markdown",
   "id": "0fad1406",
   "metadata": {},
   "source": [
    "### Q4. What are the values of the following expressions ?"
   ]
  },
  {
   "cell_type": "raw",
   "id": "82db57f6",
   "metadata": {},
   "source": [
    "\n",
    "(5 > 4) and (3 == 5)\n",
    "not (5 > 4)\n",
    "(5 > 4) or (3 == 5)\n",
    "not ((5 > 4) or (3 == 5))\n",
    "(True and True) and (True == False)\n",
    "(not False) or (not True) "
   ]
  },
  {
   "cell_type": "markdown",
   "id": "9bcc9f5a",
   "metadata": {},
   "source": [
    "### Ans4. \n",
    "\n"
   ]
  },
  {
   "cell_type": "code",
   "execution_count": 15,
   "id": "7eaeb3a5",
   "metadata": {},
   "outputs": [
    {
     "name": "stdout",
     "output_type": "stream",
     "text": [
      "False\n",
      "False\n",
      "True\n",
      "False\n",
      "False\n",
      "True\n"
     ]
    }
   ],
   "source": [
    "print((5>4)and(3==5)) \n",
    "print(not(5>4)) \n",
    "print((5>4)or(3==5)) \n",
    "print(not((5>4)or(3==5))) \n",
    "print((True and True)and(True==False)) \n",
    "print((not False)or(not True)) "
   ]
  },
  {
   "cell_type": "markdown",
   "id": "aae9b9d1",
   "metadata": {},
   "source": [
    "### Q5. What are the six comparison operators?"
   ]
  },
  {
   "cell_type": "markdown",
   "id": "15814929",
   "metadata": {},
   "source": [
    "### Ans5.\n",
    "== , != , < , > , <= , =>\n"
   ]
  },
  {
   "cell_type": "markdown",
   "id": "2e320f01",
   "metadata": {},
   "source": [
    "### Q6. How do you tell the difference between the equal to and assignment operators?Describe a condition and when you would use one ?"
   ]
  },
  {
   "cell_type": "markdown",
   "id": "d3fb9ca4",
   "metadata": {},
   "source": [
    "### Ans6.\n",
    "== is the equal to operator that compares two values and evaluates to a Boolean.\n",
    "= is that assignment operator that stores a value in a variable."
   ]
  },
  {
   "cell_type": "markdown",
   "id": "69415056",
   "metadata": {},
   "source": [
    "### Q7. Identify the three blocks in this code:\n"
   ]
  },
  {
   "cell_type": "markdown",
   "id": "edf50b1e",
   "metadata": {},
   "source": [
    "spam = 0\n",
    "if spam == 10:\n",
    "print('eggs')\n",
    "if spam > 5:\n",
    "print('bacon')\n",
    "else:\n",
    "print('ham')\n",
    "print('spam')\n",
    "print('spam')"
   ]
  },
  {
   "cell_type": "markdown",
   "id": "fdaaf48e",
   "metadata": {},
   "source": [
    "### Ans7."
   ]
  },
  {
   "cell_type": "code",
   "execution_count": null,
   "id": "2ac27b5d",
   "metadata": {},
   "outputs": [],
   "source": [
    "spam = 0  \n",
    "if spam == 10:  \n",
    "    print('eggs')  # block #1\n",
    "    \n",
    "if spam > 5:  \n",
    "    print('bacon')  # block #2\n",
    "    \n",
    "else:  \n",
    "    print('ham')  # block #3\n",
    "    print('spam')  \n",
    "    print('spam')"
   ]
  },
  {
   "cell_type": "markdown",
   "id": "4a747cef",
   "metadata": {},
   "source": [
    "### Q8. Write code that prints Hello if 1 is stored in spam, prints Howdy if 2 is stored in spam, and prints Greetings! if anything else is stored in spam."
   ]
  },
  {
   "cell_type": "markdown",
   "id": "97b3fe33",
   "metadata": {},
   "source": [
    "### Ans8."
   ]
  },
  {
   "cell_type": "code",
   "execution_count": 34,
   "id": "e56e267a",
   "metadata": {},
   "outputs": [
    {
     "name": "stdout",
     "output_type": "stream",
     "text": [
      "Hello\n",
      "Howdy\n",
      "Greetings\n"
     ]
    }
   ],
   "source": [
    "def spamCode(spam):\n",
    "    if spam==1:\n",
    "        print('Hello')\n",
    "    elif spam==2:\n",
    "        print('Howdy')\n",
    "    else:\n",
    "        print('Greetings')\n",
    "        \n",
    "spamCode(1) \n",
    "spamCode(2)\n",
    "spamCode(3)"
   ]
  },
  {
   "cell_type": "markdown",
   "id": "30e1162d",
   "metadata": {},
   "source": [
    "### Q9.If your programme is stuck in an endless loop, what keys you’ll press?"
   ]
  },
  {
   "cell_type": "markdown",
   "id": "f553168a",
   "metadata": {},
   "source": [
    "### Ans9.\n",
    "Press Ctrl-c to stop a program stuck in an infinite loop"
   ]
  },
  {
   "cell_type": "markdown",
   "id": "8519d413",
   "metadata": {},
   "source": [
    "### Q10. How can you tell the difference between break and continue?"
   ]
  },
  {
   "cell_type": "markdown",
   "id": "0ea5a702",
   "metadata": {},
   "source": [
    "### Ans10.\n",
    "The break statement will move the execution outside the loop if break condtion is satisfied. Whereas the continue statement will move the execution to the start of the loop."
   ]
  },
  {
   "cell_type": "markdown",
   "id": "46e2514b",
   "metadata": {},
   "source": [
    "### Q11. In a for loop, what is the difference between range(10), range(0, 10), and range(0, 10, 1)?"
   ]
  },
  {
   "cell_type": "markdown",
   "id": "4644b41b",
   "metadata": {},
   "source": [
    "### Ans11\n",
    "The Differences are as follows:\n",
    "\n",
    "The range(10) call range from 0 to 9 (but not include 10)                 \n",
    "The range (0,10) explicitly tells the loop to start at 0                \n",
    "The range(0,10,1) explicitly tells the loop to increase the variable by 1 on each iteration"
   ]
  },
  {
   "cell_type": "markdown",
   "id": "2432feb6",
   "metadata": {},
   "source": [
    "### Q12. Write a short program that prints the numbers 1 to 10 using a for loop. Then write an equivalent program that prints the numbers 1 to 10 using a while loop ?"
   ]
  },
  {
   "cell_type": "markdown",
   "id": "4558841d",
   "metadata": {},
   "source": [
    "### Ans12."
   ]
  },
  {
   "cell_type": "code",
   "execution_count": 33,
   "id": "c113074d",
   "metadata": {},
   "outputs": [
    {
     "name": "stdout",
     "output_type": "stream",
     "text": [
      "---------- Using For Loop ----------\n",
      "1 2 3 4 5 6 7 8 9 10 \n",
      "\n",
      "---------- Using While Loop ----------\n",
      "1 2 3 4 5 6 7 8 9 10 "
     ]
    }
   ],
   "source": [
    "print('-'*10,'Using For Loop','-'*10)\n",
    "for i in range(1,11):\n",
    "    print(i, end=\" \")\n",
    "print('\\n')\n",
    "print('-'*10,'Using While Loop','-'*10) \n",
    "i=1\n",
    "while i<=10:\n",
    "    print(i, end=\" \")\n",
    "    i+=1"
   ]
  }
 ],
 "metadata": {
  "kernelspec": {
   "display_name": "Python 3 (ipykernel)",
   "language": "python",
   "name": "python3"
  },
  "language_info": {
   "codemirror_mode": {
    "name": "ipython",
    "version": 3
   },
   "file_extension": ".py",
   "mimetype": "text/x-python",
   "name": "python",
   "nbconvert_exporter": "python",
   "pygments_lexer": "ipython3",
   "version": "3.9.12"
  }
 },
 "nbformat": 4,
 "nbformat_minor": 5
}
