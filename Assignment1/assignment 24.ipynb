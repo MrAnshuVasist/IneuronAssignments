{
 "cells": [
  {
   "cell_type": "markdown",
   "id": "2c19cb3a",
   "metadata": {},
   "source": [
    "## Qustion 1. What is the relationship between def statements and lambda expressions ?\n"
   ]
  },
  {
   "cell_type": "markdown",
   "id": "9dc6183b",
   "metadata": {},
   "source": [
    "### Answar 1.\n",
    "\n",
    "`def` statement is used to create a normal function whereas `lambda` expressions are used to create `Anonymous functions`which can be assigned to a variable and can be called using the variable later in function.\n",
    "\n",
    "Lambda's body is a single expression and not a block of statements like def statement. The lambda expression's body is similar to what we wouldd put in a def body's return statement. We simply type the result as an expression instead of explicitly returning it. Because it is limited to an expression, a lambda is less general than a def statement. \n",
    "\n",
    "Example of Lambda Function is shown below:"
   ]
  },
  {
   "cell_type": "code",
   "execution_count": 1,
   "id": "106e92d7",
   "metadata": {},
   "outputs": [
    {
     "name": "stdout",
     "output_type": "stream",
     "text": [
      "125\n"
     ]
    }
   ],
   "source": [
    "x = lambda a : a**3\n",
    "print(x(5)) "
   ]
  },
  {
   "cell_type": "markdown",
   "id": "d3eeb2d0",
   "metadata": {},
   "source": [
    "## Qustion 2. What is the benefit of lambda?\n"
   ]
  },
  {
   "cell_type": "markdown",
   "id": "225dee0a",
   "metadata": {},
   "source": [
    "## Answar 2.\n",
    "Concise syntax: Lambda functions allow for the definition of small, one-line functions without the need for formal function definitions. This leads to more compact and readable code.\n",
    "\n",
    "Simplified functionality: Lambdas are suitable for simple, single-expression operations. They eliminate the need for writing a full function definition when a function is only used in one place, making the code more streamlined and focused.\n",
    "\n",
    "Enhanced readability: By using lambda functions, the code can be kept closer to the point of use. This improves code readability and maintainability, as the function's purpose is immediately apparent to other developers."
   ]
  },
  {
   "cell_type": "markdown",
   "id": "216b0e45",
   "metadata": {},
   "source": [
    "## Qustion 3. Compare and contrast map, filter, and reduce."
   ]
  },
  {
   "cell_type": "markdown",
   "id": "c8dc9509",
   "metadata": {},
   "source": [
    "## Answar 3.\n",
    "\n",
    "1. `map()`: The map() function is a type of higher-order. This function takes another function as a parameter\n",
    "along with a sequence of iterables and returns an output after applying the function to each iterable present in the\n",
    "sequence. \n",
    "2. `filter()`: The filter() function is used to create an output list consisting of values for which the function returns true.\n",
    "3. `reduce()`: The reduce() function, as the name describes, applies a given function to the iterables and returns a single value"
   ]
  },
  {
   "cell_type": "code",
   "execution_count": 4,
   "id": "39aae00e",
   "metadata": {},
   "outputs": [
    {
     "name": "stdout",
     "output_type": "stream",
     "text": [
      "[1, 4, 9, 16, 25]\n",
      "[2, 4]\n",
      "120\n"
     ]
    }
   ],
   "source": [
    "from functools import reduce\n",
    "\n",
    "numbers = [1, 2, 3, 4, 5]\n",
    "\n",
    "# Map: Square each number\n",
    "squared_numbers = list(map(lambda x: x**2, numbers))\n",
    "print(squared_numbers)\n",
    "\n",
    "# Filter: Keep even numbers\n",
    "even_numbers = list(filter(lambda x: x % 2 == 0, numbers))\n",
    "print(even_numbers)\n",
    "\n",
    "# Reduce: Find the product of all numbers\n",
    "product = reduce(lambda x, y: x * y, numbers)\n",
    "print(product)\n"
   ]
  },
  {
   "cell_type": "markdown",
   "id": "e681c474",
   "metadata": {},
   "source": [
    "## Qustion 4. What are function annotations, and how are they used?\n"
   ]
  },
  {
   "cell_type": "markdown",
   "id": "5167d8b1",
   "metadata": {},
   "source": [
    "## Answar 4.\n",
    "Function annotations in Python are primarily used for type hints or to provide additional metadata about the parameters and return values of a function. They are optional and do not affect the execution or behavior of the function.\n",
    "\n",
    "Function annotations in Python serve two primary purposes: to provide type hints for static type checking in a dynamically typed language and to enable libraries to generate informative help messages during compile time.\n",
    "    \n",
    "#### Example \n",
    "1. Annotations for simple parameters : def foo(a: expression, b: expression = 5):\n",
    "2. Annotations for excess parameters : def foo(*args: expression, *kwargs: expression):\n",
    "3. Annotations for nested parameters : def foo((a: expression, b: expression), (c: expression, d: expression)):"
   ]
  },
  {
   "cell_type": "markdown",
   "id": "f8acb3c6",
   "metadata": {},
   "source": [
    "## Qustion 5. What are recursive functions, and how are they used?\n",
    "## Answar 5.\n",
    "A recursive function is a function that calls itself during its execution. The process may repeat several times, outputting the result and the end of each iteration. An example is mentioned below:"
   ]
  },
  {
   "cell_type": "code",
   "execution_count": null,
   "id": "9410ebf0",
   "metadata": {},
   "outputs": [],
   "source": [
    "def factorial(n):\n",
    "    if n == 0:\n",
    "        return 1\n",
    "    else:\n",
    "        return n * factorial(n - 1)\n",
    "\n",
    "result = factorial(5)\n",
    "print(result)\n"
   ]
  },
  {
   "cell_type": "markdown",
   "id": "412a15f9",
   "metadata": {},
   "source": [
    "## Qustion 6. What are some general design guidelines for coding functions?"
   ]
  },
  {
   "cell_type": "markdown",
   "id": "30479e19",
   "metadata": {},
   "source": [
    "## Answar 6.\n",
    "1. Single Responsibility Principle: Each function should have a single, well-defined responsibility.\n",
    "2. Keep functions small and concise.\n",
    "3. Use descriptive and meaningful names for functions.\n",
    "4. Limit the use of side effects.\n",
    "5. Aim for functions that fit within a single screen view or can be understood at a glance."
   ]
  },
  {
   "cell_type": "markdown",
   "id": "e7542027",
   "metadata": {},
   "source": [
    "## Qustion 7. Name three or more ways that functions can communicate results to a caller."
   ]
  },
  {
   "cell_type": "markdown",
   "id": "825ac6ae",
   "metadata": {},
   "source": [
    "## Answar 7.\n",
    "1. Return values\n",
    "2. Output parameters\n",
    "3. Exceptions"
   ]
  }
 ],
 "metadata": {
  "kernelspec": {
   "display_name": "Python 3 (ipykernel)",
   "language": "python",
   "name": "python3"
  },
  "language_info": {
   "codemirror_mode": {
    "name": "ipython",
    "version": 3
   },
   "file_extension": ".py",
   "mimetype": "text/x-python",
   "name": "python",
   "nbconvert_exporter": "python",
   "pygments_lexer": "ipython3",
   "version": "3.9.12"
  }
 },
 "nbformat": 4,
 "nbformat_minor": 5
}
