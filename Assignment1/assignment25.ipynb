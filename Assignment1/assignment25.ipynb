{
 "cells": [
  {
   "cell_type": "markdown",
   "id": "54f9cee5",
   "metadata": {},
   "source": [
    "### Question1.\n",
    "Create a function that takes three integer arguments (a, b, c) and returns the amount on integers which are of equal value.\n",
    "\n",
    "\n",
    "Examples\n",
    "\n",
    "equal(3, 4, 3) ➞ 2\n",
    "\n",
    "equal(1, 1, 1) ➞ 3\n",
    "\n",
    "equal(3, 4, 1) ➞ 0\n",
    "\n",
    "\n",
    "Notes\n",
    "Your function must return 0, 2 or 3.\n"
   ]
  },
  {
   "cell_type": "markdown",
   "id": "ea4435b7",
   "metadata": {},
   "source": [
    "### Answar1."
   ]
  },
  {
   "cell_type": "code",
   "execution_count": 4,
   "id": "337a132e",
   "metadata": {},
   "outputs": [],
   "source": [
    "def equal(a, b, c):\n",
    "    if a == b == c:\n",
    "        return f'{a, b, c} ➞ {3}'\n",
    "    elif a == b or b == c or a == c:\n",
    "        return f'{a, b, c} ➞ {2}'\n",
    "    else:\n",
    "        return f'{a, b, c} ➞ {0}'"
   ]
  },
  {
   "cell_type": "code",
   "execution_count": 5,
   "id": "23bf2b59",
   "metadata": {},
   "outputs": [
    {
     "data": {
      "text/plain": [
       "'(3, 4, 3) ➞ 2'"
      ]
     },
     "execution_count": 5,
     "metadata": {},
     "output_type": "execute_result"
    }
   ],
   "source": [
    "equal(3, 4, 3)"
   ]
  },
  {
   "cell_type": "markdown",
   "id": "f9296dab",
   "metadata": {},
   "source": [
    "### Question2. \n",
    "\n",
    "#### Write a function that converts a dictionary into a list of keys-values tuples.\n",
    "### Examples\n",
    "\n",
    "`dict_to_list({\n",
    "    \"D\": 1,\n",
    "    \"B\": 2,\n",
    "    \"C\": 3\n",
    "    }) ➞ [(\"B\", 2), (\"C\", 3), (\"D\", 1)]  \n",
    "dict_to_list({\n",
    "    \"likes\": 2,\n",
    "    \"dislikes\": 3,\n",
    "    \"followers\": 10\n",
    "    }) ➞ [(\"dislikes\", 3), (\"followers\", 10), (\"likes\", 2)]`\n",
    "\n",
    "### Notes: \n",
    "Return the elements in the list in alphabetical order.\n",
    "\n"
   ]
  },
  {
   "cell_type": "markdown",
   "id": "58c1d42b",
   "metadata": {},
   "source": [
    "### Answar 2."
   ]
  },
  {
   "cell_type": "code",
   "execution_count": 15,
   "id": "908fae24",
   "metadata": {},
   "outputs": [],
   "source": [
    "def dict_to_list(dictt):\n",
    "    return list(dictt.items()).sort()\n",
    "\n"
   ]
  },
  {
   "cell_type": "code",
   "execution_count": 16,
   "id": "b7ebe917",
   "metadata": {},
   "outputs": [],
   "source": [
    "dict_to_list({\n",
    "    \"likes\": 2,\n",
    "    \"dislikes\": 3,\n",
    "    \"followers\": 10\n",
    "    })"
   ]
  },
  {
   "cell_type": "markdown",
   "id": "d7a14a87",
   "metadata": {},
   "source": [
    "### Qustion 3.\n",
    "Write a function that creates a dictionary with each (key, value) pair being the (lower case, upper case) versions of a letter, respectively.\n",
    "### Examples:  \n",
    "`mapping([\"p\", \"s\"]) ➞ { \"p\": \"P\", \"s\": \"S\" }`  \n",
    "`mapping([\"a\", \"b\", \"c\"]) ➞ { \"a\": \"A\", \"b\": \"B\", \"c\": \"C\" }`  \n",
    "`mapping([\"a\", \"v\", \"y\", \"z\"]) ➞ { \"a\": \"A\", \"v\": \"V\", \"y\": \"Y\", \"z\": \"Z\" }`  \n",
    "\n",
    "### Notes:\n",
    "All of the letters in the input list will always be lowercase."
   ]
  },
  {
   "cell_type": "markdown",
   "id": "3f1dc795",
   "metadata": {},
   "source": [
    "## Answar 3."
   ]
  },
  {
   "cell_type": "code",
   "execution_count": 21,
   "id": "f49ba926",
   "metadata": {},
   "outputs": [
    {
     "name": "stdout",
     "output_type": "stream",
     "text": [
      "{'a': 'A', 'v': 'V', 'y': 'Y', 'z': 'Z'}\n"
     ]
    }
   ],
   "source": [
    "def mapping(list1):\n",
    "    dict1 = {}\n",
    "    for i in list1:\n",
    "        dict1[i] = i.upper()\n",
    "    print(dict1) \n",
    "\n",
    "\n",
    "mapping([\"a\", \"v\", \"y\", \"z\"])\n",
    "\n",
    "\n"
   ]
  },
  {
   "cell_type": "markdown",
   "id": "40920891",
   "metadata": {},
   "source": [
    "## Qustion 4.\n",
    "#### 4.Write a function, that replaces all vowels in a string with a specified vowel.\n",
    "## Examples:  \n",
    "`vow_replace(\"apples and bananas\", \"u\") ➞ \"upplus und bununus\"`  \n",
    "`vow_replace(\"cheese casserole\", \"o\") ➞ \"chooso cossorolo\"`  \n",
    "`vow_replace(\"stuffed jalapeno poppers\", \"e\") ➞ \"steffed jelepene peppers\"`  \n",
    "\n",
    "## Notes:   \n",
    "All words will be lowercase. Y is not considered a vowel."
   ]
  },
  {
   "cell_type": "markdown",
   "id": "d52e45e6",
   "metadata": {},
   "source": [
    "## Answar 4."
   ]
  },
  {
   "cell_type": "code",
   "execution_count": 24,
   "id": "4a13c67a",
   "metadata": {},
   "outputs": [
    {
     "data": {
      "text/plain": [
       "'steffed jelepene peppers'"
      ]
     },
     "execution_count": 24,
     "metadata": {},
     "output_type": "execute_result"
    }
   ],
   "source": [
    "def vow_replace(string,char):\n",
    "    str1=\"\"\n",
    "    vowels = ['a','e','i','o','u']\n",
    "    for i in string:\n",
    "        if i in vowels:\n",
    "            str1= str1+char\n",
    "        else:\n",
    "            str1 = str1 + i\n",
    "    return str1\n",
    "\n",
    "vow_replace(\"stuffed jalapeno poppers\", \"e\")\n",
    "            "
   ]
  },
  {
   "cell_type": "markdown",
   "id": "0626f1c1",
   "metadata": {},
   "source": [
    "## Qustion 5.\n",
    "#### 5.Create a function that takes a string as input and capitalizes a letter if its ASCII code is even and returns its lower case version if its ASCII code is odd.\n",
    "## Examples: \n",
    "`ascii_capitalize(\"to be or not to be!\") ➞ \"To Be oR NoT To Be!\"`  \n",
    "`ascii_capitalize(\"THE LITTLE MERMAID\") ➞ \"THe LiTTLe meRmaiD\"`  \n",
    "`ascii_capitalize(\"Oh what a beautiful morning.\") ➞ \"oH wHaT a BeauTiFuL moRNiNg.\"`  "
   ]
  },
  {
   "cell_type": "markdown",
   "id": "261d55e0",
   "metadata": {},
   "source": [
    "## Answar 5."
   ]
  },
  {
   "cell_type": "code",
   "execution_count": 27,
   "id": "f58a8850",
   "metadata": {},
   "outputs": [
    {
     "name": "stdout",
     "output_type": "stream",
     "text": [
      "{'To Be oR NoT To Be!'}\n",
      "{'THe LiTTLe meRmaiD'}\n",
      "{'oH wHaT a BeauTiFuL moRNiNg.'}\n"
     ]
    }
   ],
   "source": [
    "def ascii_capitalize(string):\n",
    "    str1 = ''\n",
    "    for i in string.lower():\n",
    "        if (ord(i)%2 == 0):\n",
    "            str1 += i.upper()\n",
    "        else:\n",
    "            str1 += i\n",
    "    print({str1})\n",
    "        \n",
    "ascii_capitalize(\"to be or not to be!\")\n",
    "ascii_capitalize(\"THE LITTLE MERMAID\")\n",
    "ascii_capitalize(\"Oh what a beautiful morning.\")"
   ]
  }
 ],
 "metadata": {
  "kernelspec": {
   "display_name": "Python 3 (ipykernel)",
   "language": "python",
   "name": "python3"
  },
  "language_info": {
   "codemirror_mode": {
    "name": "ipython",
    "version": 3
   },
   "file_extension": ".py",
   "mimetype": "text/x-python",
   "name": "python",
   "nbconvert_exporter": "python",
   "pygments_lexer": "ipython3",
   "version": "3.9.12"
  }
 },
 "nbformat": 4,
 "nbformat_minor": 5
}
